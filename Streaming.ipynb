{
 "cells": [
  {
   "cell_type": "code",
   "execution_count": 2,
   "id": "19a74ee7",
   "metadata": {},
   "outputs": [],
   "source": [
    "from kiteconnect import KiteTicker, KiteConnect\n",
    "import datetime\n",
    "import sys\n",
    "import pandas as pd\n",
    "import os\n",
    "import sqlite3\n"
   ]
  },
  {
   "cell_type": "code",
   "execution_count": 2,
   "id": "439e4bde",
   "metadata": {},
   "outputs": [],
   "source": [
    "kite = KiteConnect(api_key=\"\")\n",
    "kite.set_access_token('')"
   ]
  },
  {
   "cell_type": "code",
   "execution_count": 3,
   "id": "b5a2a243",
   "metadata": {},
   "outputs": [],
   "source": [
    "db = sqlite3.connect('C:/Users/ronaa/Documents/Kiteconnect/test.db')"
   ]
  },
  {
   "cell_type": "code",
   "execution_count": 4,
   "id": "0576f34e",
   "metadata": {},
   "outputs": [],
   "source": [
    "def create_tables(tokens):\n",
    "    c=db.cursor()\n",
    "    for i in tokens:\n",
    "        c.execute(\"CREATE TABLE IF NOT EXISTS TOKEN{} (ts datetime primary key,price real(15,5), volume integer)\".format(i))\n",
    "    try:\n",
    "        db.commit()\n",
    "    except:\n",
    "        db.rollback()"
   ]
  },
  {
   "cell_type": "code",
   "execution_count": 5,
   "id": "814b5896",
   "metadata": {},
   "outputs": [],
   "source": [
    "def insert_ticks(ticks):\n",
    "    c=db.cursor()\n",
    "    for tick in ticks:\n",
    "        try:\n",
    "            tok = \"TOKEN\"+str(tick['instrument_token'])\n",
    "            vals = [tick['exchange_timestamp'],tick['last_price'], tick['last_traded_quantity']]\n",
    "            query = \"INSERT INTO {}(ts,price,volume) VALUES (?,?,?)\".format(tok)\n",
    "            c.execute(query,vals)\n",
    "        except:\n",
    "            pass\n",
    "    try:\n",
    "        db.commit()\n",
    "    except:\n",
    "        db.rollback()  "
   ]
  },
  {
   "cell_type": "code",
   "execution_count": 6,
   "id": "358d767f",
   "metadata": {},
   "outputs": [],
   "source": [
    "instrument_dump = kite.instruments(\"NSE\")\n",
    "instrument_df = pd.DataFrame(instrument_dump)"
   ]
  },
  {
   "cell_type": "code",
   "execution_count": 7,
   "id": "de2765f5",
   "metadata": {},
   "outputs": [],
   "source": [
    "def tokenLookup(instrument_df,symbol_list):\n",
    "    \"\"\"Looks up instrument token for a given script from instrument dump\"\"\"\n",
    "    token_list = []\n",
    "    for symbol in symbol_list:\n",
    "        token_list.append(int(instrument_df[instrument_df.tradingsymbol==symbol].instrument_token.values[0]))\n",
    "    return token_list\n"
   ]
  },
  {
   "cell_type": "code",
   "execution_count": 8,
   "id": "10b7826a",
   "metadata": {},
   "outputs": [],
   "source": [
    "tickers = [\"ADANIPORTS\"]"
   ]
  },
  {
   "cell_type": "code",
   "execution_count": 9,
   "id": "415a101c",
   "metadata": {},
   "outputs": [],
   "source": [
    "kws = KiteTicker(\"kdwok1gk1epq3k3k\",\"YzvQS4nz1XaPN1WzspCuqW5rQOyOWxsQ\")\n",
    "tokens = tokenLookup(instrument_df,tickers)"
   ]
  },
  {
   "cell_type": "code",
   "execution_count": 10,
   "id": "5155cb5f",
   "metadata": {},
   "outputs": [],
   "source": [
    "create_tables(tokens)"
   ]
  },
  {
   "cell_type": "code",
   "execution_count": null,
   "id": "cd60022a",
   "metadata": {},
   "outputs": [
    {
     "name": "stderr",
     "output_type": "stream",
     "text": [
      "Connection error: 1006 - connection was closed uncleanly (WebSocket connection upgrade failed (403 - Forbidden))\n",
      "Connection closed: 1006 - connection was closed uncleanly (WebSocket connection upgrade failed (403 - Forbidden))\n",
      "Connection error: 1006 - connection was closed uncleanly (WebSocket connection upgrade failed (403 - Forbidden))\n",
      "Connection closed: 1006 - connection was closed uncleanly (WebSocket connection upgrade failed (403 - Forbidden))\n",
      "Connection error: 1006 - connection was closed uncleanly (WebSocket connection upgrade failed (403 - Forbidden))\n",
      "Connection closed: 1006 - connection was closed uncleanly (WebSocket connection upgrade failed (403 - Forbidden))\n",
      "Connection error: 1006 - connection was closed uncleanly (WebSocket connection upgrade failed (403 - Forbidden))\n",
      "Connection closed: 1006 - connection was closed uncleanly (WebSocket connection upgrade failed (403 - Forbidden))\n",
      "Connection error: 1006 - connection was closed uncleanly (WebSocket connection upgrade failed (403 - Forbidden))\n",
      "Connection closed: 1006 - connection was closed uncleanly (WebSocket connection upgrade failed (403 - Forbidden))\n"
     ]
    }
   ],
   "source": [
    "def on_ticks(ws,ticks):\n",
    "    insert_tick=insert_ticks(ticks)\n",
    "    print(ticks)\n",
    "\n",
    "def on_connect(ws,response):\n",
    "    ws.subscribe(tokens)\n",
    "    ws.set_mode(ws.MODE_FULL,tokens)\n",
    "    \n",
    "while True:\n",
    "    now = datetime.datetime.now()\n",
    "    if (now.hour >= 15 and now.minute >= 30):\n",
    "        sys.exit()\n",
    "    elif ((now.hour >= 9) and (now.minute >= 15)):\n",
    "        kws.on_ticks=on_ticks\n",
    "        kws.on_connect=on_connect\n",
    "        kws.connect()\n",
    "    else:\n",
    "        continue\n",
    "\n",
    "\n",
    "\n",
    "\n"
   ]
  },
  {
   "cell_type": "code",
   "execution_count": 31,
   "id": "abb27332",
   "metadata": {},
   "outputs": [
    {
     "data": {
      "text/plain": [
       "16"
      ]
     },
     "execution_count": 31,
     "metadata": {},
     "output_type": "execute_result"
    }
   ],
   "source": [
    "now = datetime.datetime.now()\n",
    "now.minute"
   ]
  },
  {
   "cell_type": "code",
   "execution_count": 4,
   "id": "9f40b9d6",
   "metadata": {},
   "outputs": [],
   "source": [
    "db.close()"
   ]
  },
  {
   "cell_type": "code",
   "execution_count": 5,
   "id": "504173bf",
   "metadata": {},
   "outputs": [
    {
     "ename": "NameError",
     "evalue": "name 'token' is not defined",
     "output_type": "error",
     "traceback": [
      "\u001b[1;31m---------------------------------------------------------------------------\u001b[0m",
      "\u001b[1;31mNameError\u001b[0m                                 Traceback (most recent call last)",
      "\u001b[1;32m~\\AppData\\Local\\Temp\\ipykernel_6396\\1677902173.py\u001b[0m in \u001b[0;36m<module>\u001b[1;34m\u001b[0m\n\u001b[1;32m----> 1\u001b[1;33m \u001b[0mdata\u001b[0m \u001b[1;33m=\u001b[0m \u001b[0mpd\u001b[0m\u001b[1;33m.\u001b[0m\u001b[0mread_sql\u001b[0m\u001b[1;33m(\u001b[0m\u001b[1;34m'''SELECT * FROM TOKEN%s WHERE ts >=  date() - '12 day';'''\u001b[0m \u001b[1;33m%\u001b[0m\u001b[0mtoken\u001b[0m\u001b[1;33m,\u001b[0m \u001b[0mcon\u001b[0m\u001b[1;33m=\u001b[0m\u001b[0mdb\u001b[0m\u001b[1;33m)\u001b[0m\u001b[1;33m\u001b[0m\u001b[1;33m\u001b[0m\u001b[0m\n\u001b[0m\u001b[0;32m      2\u001b[0m \u001b[0mdata\u001b[0m \u001b[1;33m=\u001b[0m \u001b[0mdata\u001b[0m\u001b[1;33m.\u001b[0m\u001b[0mset_index\u001b[0m\u001b[1;33m(\u001b[0m\u001b[1;33m[\u001b[0m\u001b[1;34m'ts'\u001b[0m\u001b[1;33m]\u001b[0m\u001b[1;33m)\u001b[0m\u001b[1;33m\u001b[0m\u001b[1;33m\u001b[0m\u001b[0m\n\u001b[0;32m      3\u001b[0m \u001b[0mdata\u001b[0m\u001b[1;33m.\u001b[0m\u001b[0mindex\u001b[0m \u001b[1;33m=\u001b[0m \u001b[0mpd\u001b[0m\u001b[1;33m.\u001b[0m\u001b[0mto_datetime\u001b[0m\u001b[1;33m(\u001b[0m\u001b[0mdata\u001b[0m\u001b[1;33m.\u001b[0m\u001b[0mindex\u001b[0m\u001b[1;33m)\u001b[0m\u001b[1;33m\u001b[0m\u001b[1;33m\u001b[0m\u001b[0m\n\u001b[0;32m      4\u001b[0m \u001b[0mticks\u001b[0m \u001b[1;33m=\u001b[0m \u001b[0mdata\u001b[0m\u001b[1;33m.\u001b[0m\u001b[0mloc\u001b[0m\u001b[1;33m[\u001b[0m\u001b[1;33m:\u001b[0m\u001b[1;33m,\u001b[0m \u001b[1;33m[\u001b[0m\u001b[1;34m'price'\u001b[0m\u001b[1;33m]\u001b[0m\u001b[1;33m]\u001b[0m\u001b[1;33m\u001b[0m\u001b[1;33m\u001b[0m\u001b[0m\n\u001b[0;32m      5\u001b[0m \u001b[0mdf\u001b[0m\u001b[1;33m=\u001b[0m\u001b[0mticks\u001b[0m\u001b[1;33m[\u001b[0m\u001b[1;34m'price'\u001b[0m\u001b[1;33m]\u001b[0m\u001b[1;33m.\u001b[0m\u001b[0mresample\u001b[0m\u001b[1;33m(\u001b[0m\u001b[1;34m'5min'\u001b[0m\u001b[1;33m)\u001b[0m\u001b[1;33m.\u001b[0m\u001b[0mohlc\u001b[0m\u001b[1;33m(\u001b[0m\u001b[1;33m)\u001b[0m\u001b[1;33m.\u001b[0m\u001b[0mdropna\u001b[0m\u001b[1;33m(\u001b[0m\u001b[1;33m)\u001b[0m\u001b[1;33m\u001b[0m\u001b[1;33m\u001b[0m\u001b[0m\n",
      "\u001b[1;31mNameError\u001b[0m: name 'token' is not defined"
     ]
    }
   ],
   "source": [
    "    data = pd.read_sql('''SELECT * FROM TOKEN%s WHERE ts >=  date() - '12 day';''' %token, con=db)                \n",
    "    data = data.set_index(['ts'])\n",
    "    data.index = pd.to_datetime(data.index)\n",
    "    ticks = data.loc[:, ['price']]   \n",
    "    df=ticks['price'].resample('5min').ohlc().dropna()\n"
   ]
  },
  {
   "cell_type": "code",
   "execution_count": null,
   "id": "0e2a6b04",
   "metadata": {},
   "outputs": [],
   "source": []
  }
 ],
 "metadata": {
  "kernelspec": {
   "display_name": "Python 3 (ipykernel)",
   "language": "python",
   "name": "python3"
  },
  "language_info": {
   "codemirror_mode": {
    "name": "ipython",
    "version": 3
   },
   "file_extension": ".py",
   "mimetype": "text/x-python",
   "name": "python",
   "nbconvert_exporter": "python",
   "pygments_lexer": "ipython3",
   "version": "3.9.13"
  }
 },
 "nbformat": 4,
 "nbformat_minor": 5
}
